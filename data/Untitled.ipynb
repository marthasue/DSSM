{
 "cells": [
  {
   "cell_type": "code",
   "execution_count": 6,
   "metadata": {},
   "outputs": [
    {
     "name": "stdout",
     "output_type": "stream",
     "text": [
      "['Unnamed: 0', 'main_product', 'ambi_product', 'main_industry', 'ambi_industry', 'main_product.1', 'ambi_product.1', 'main_industry.1', 'ambi_industry.1']\n"
     ]
    }
   ],
   "source": [
    "import pandas as pd\n",
    "import numpy as np\n",
    "from sklearn.utils import shuffle\n",
    "import numpy as np\n",
    "#id_left, text_left, id_left, text_right, label\n",
    "#还要打乱\n",
    "df0 = pd.read_excel('pipei_data.xlsx','Sheet1')\n",
    "\n",
    "col_name=df0.columns.tolist()                   # 将数据框的列名全部提取出来存放在列表里\n",
    "print(col_name)\n",
    "col_name.insert(9,'host')\n",
    "col_name.insert(10,'guest') # 在列索引为2的位置插入一列,列名为:city，刚插入时不会有值，整列都是NaN\n",
    "col_name.insert(11,'label') \n",
    "df0=df0.reindex(columns=col_name)              # DataFrame.reindex() 对原行/列索引重新构建索引值\n",
    "\n",
    "# main_product_host\n",
    "# ami_product_guest\n",
    "# df1 = pandas.DataFrame(df0, index, columns, dtype, copy)\n",
    "list1 = []\n",
    "for i in df0.index:\n",
    "    list2 = []\n",
    "    for j in range(1,5):\n",
    "        m = df0.iloc[i,j]\n",
    "        if pd.isna(m)==False:\n",
    "            list2.append(m)\n",
    "    list1.append(''.join(list2))\n",
    "df0['host'] = pd.DataFrame(list1)\n",
    "list3 = []\n",
    "for i in df0.index:\n",
    "    list4 = []\n",
    "    for j in range(5,9):\n",
    "        m = df0.iloc[i,j]\n",
    "        if pd.isna(m)==False:\n",
    "            list4.append(m)\n",
    "    list3.append(''.join(list4))\n",
    "df0['guest'] = pd.DataFrame(list3)\n",
    "y = np.load('Y_pipei.npy')\n",
    "df0['label'] = pd.DataFrame(y)\n",
    "df1 = df0.loc[:,['host','guest','label']]\n",
    "df1.to_excel('host_guest_label.xlsx','Sheet1')\n",
    "df1 = shuffle(df1)"
   ]
  },
  {
   "cell_type": "code",
   "execution_count": 4,
   "metadata": {
    "scrolled": true
   },
   "outputs": [
    {
     "data": {
      "text/html": [
       "<div>\n",
       "<style scoped>\n",
       "    .dataframe tbody tr th:only-of-type {\n",
       "        vertical-align: middle;\n",
       "    }\n",
       "\n",
       "    .dataframe tbody tr th {\n",
       "        vertical-align: top;\n",
       "    }\n",
       "\n",
       "    .dataframe thead th {\n",
       "        text-align: right;\n",
       "    }\n",
       "</style>\n",
       "<table border=\"1\" class=\"dataframe\">\n",
       "  <thead>\n",
       "    <tr style=\"text-align: right;\">\n",
       "      <th></th>\n",
       "      <th>host</th>\n",
       "      <th>guest</th>\n",
       "      <th>label</th>\n",
       "    </tr>\n",
       "  </thead>\n",
       "  <tbody>\n",
       "    <tr>\n",
       "      <th>0</th>\n",
       "      <td>食品、饮料和烟草批发食品、饮料和烟草批发其他批发业</td>\n",
       "      <td>住院病人服务其他政府行政服务卫生卫生</td>\n",
       "      <td>0</td>\n",
       "    </tr>\n",
       "    <tr>\n",
       "      <th>1</th>\n",
       "      <td>摩托车用发动机,机动车（汽车）零配件,摩托车零件、配件汽车、摩托车、燃料及零配件专门零售</td>\n",
       "      <td>机动车（汽车）零配件通用零部件制造</td>\n",
       "      <td>1</td>\n",
       "    </tr>\n",
       "    <tr>\n",
       "      <th>2</th>\n",
       "      <td>食品、饮料和烟草批发食品、饮料和烟草批发其他批发业其他批发业</td>\n",
       "      <td>毛皮服装毛皮服装,油橄榄果,其他油料,干制水果及水果籽皮革、毛皮、羽毛及其制品和制鞋业农、林...</td>\n",
       "      <td>1</td>\n",
       "    </tr>\n",
       "    <tr>\n",
       "      <th>3</th>\n",
       "      <td></td>\n",
       "      <td>其他纺织制品针织或钩编床罩,针织或钩编相关床上制品,针织或钩编台布,针织或钩编相关餐桌用制品...</td>\n",
       "      <td>0</td>\n",
       "    </tr>\n",
       "    <tr>\n",
       "      <th>4</th>\n",
       "      <td>皮革鞋靴,纺织面鞋,胶鞋,塑料鞋,木制鞋,舞蹈、戏剧用靴鞋,靴鞋零件、护腿及类似品,其他鞋纺...</td>\n",
       "      <td>旅游推广和访客信息服务,其他农业服务,园艺产品,其他林业服务,旅游星级饭店住宿服务,珠宝首饰...</td>\n",
       "      <td>1</td>\n",
       "    </tr>\n",
       "  </tbody>\n",
       "</table>\n",
       "</div>"
      ],
      "text/plain": [
       "                                                host  \\\n",
       "0                          食品、饮料和烟草批发食品、饮料和烟草批发其他批发业   \n",
       "1       摩托车用发动机,机动车（汽车）零配件,摩托车零件、配件汽车、摩托车、燃料及零配件专门零售   \n",
       "2                     食品、饮料和烟草批发食品、饮料和烟草批发其他批发业其他批发业   \n",
       "3                                                      \n",
       "4  皮革鞋靴,纺织面鞋,胶鞋,塑料鞋,木制鞋,舞蹈、戏剧用靴鞋,靴鞋零件、护腿及类似品,其他鞋纺...   \n",
       "\n",
       "                                               guest  label  \n",
       "0                                 住院病人服务其他政府行政服务卫生卫生      0  \n",
       "1                                  机动车（汽车）零配件通用零部件制造      1  \n",
       "2  毛皮服装毛皮服装,油橄榄果,其他油料,干制水果及水果籽皮革、毛皮、羽毛及其制品和制鞋业农、林...      1  \n",
       "3  其他纺织制品针织或钩编床罩,针织或钩编相关床上制品,针织或钩编台布,针织或钩编相关餐桌用制品...      0  \n",
       "4  旅游推广和访客信息服务,其他农业服务,园艺产品,其他林业服务,旅游星级饭店住宿服务,珠宝首饰...      1  "
      ]
     },
     "execution_count": 4,
     "metadata": {},
     "output_type": "execute_result"
    }
   ],
   "source": [
    "df_origin = df1\n",
    "df_train = df_origin.iloc[:6862,:]\n",
    "df_train = df_train.reset_index(drop=True)\n",
    "df_test = df_origin.iloc[6862:,:]\n",
    "df_test = df_test.reset_index(drop=True)\n",
    "df_train.to_excel('TRAIN.xlsx','Sheet1')\n",
    "df_test.to_excel('TEST.xlsx','Sheet1')\n",
    "df_test.head()"
   ]
  },
  {
   "cell_type": "code",
   "execution_count": 5,
   "metadata": {},
   "outputs": [
    {
     "data": {
      "text/html": [
       "<div>\n",
       "<style scoped>\n",
       "    .dataframe tbody tr th:only-of-type {\n",
       "        vertical-align: middle;\n",
       "    }\n",
       "\n",
       "    .dataframe tbody tr th {\n",
       "        vertical-align: top;\n",
       "    }\n",
       "\n",
       "    .dataframe thead th {\n",
       "        text-align: right;\n",
       "    }\n",
       "</style>\n",
       "<table border=\"1\" class=\"dataframe\">\n",
       "  <thead>\n",
       "    <tr style=\"text-align: right;\">\n",
       "      <th></th>\n",
       "      <th>host</th>\n",
       "      <th>guest</th>\n",
       "      <th>label</th>\n",
       "    </tr>\n",
       "  </thead>\n",
       "  <tbody>\n",
       "    <tr>\n",
       "      <th>3106</th>\n",
       "      <td>食用菌食用菌农业农业</td>\n",
       "      <td>管理咨询和管理服务管理咨询和管理服务国家机构国家机构</td>\n",
       "      <td>1</td>\n",
       "    </tr>\n",
       "    <tr>\n",
       "      <th>8437</th>\n",
       "      <td>其他食品添加剂调味香料,其他储存和仓储服务,其他公路运输服务,其他铁路运输服务,铁路推或拖运...</td>\n",
       "      <td>家用洗衣机家用洗衣机电气机械和器材制造业电气机械和器材制造业</td>\n",
       "      <td>0</td>\n",
       "    </tr>\n",
       "    <tr>\n",
       "      <th>8565</th>\n",
       "      <td>针织Ｔ恤衫针织休闲衫纺织服装、服饰业纺织服装、服饰业</td>\n",
       "      <td>塑料薄膜塑料管,塑料薄膜橡胶和塑料制品业橡胶和塑料制品业</td>\n",
       "      <td>0</td>\n",
       "    </tr>\n",
       "    <tr>\n",
       "      <th>7776</th>\n",
       "      <td>纺织品、服装和鞋类批发纺织品、服装和鞋类批发纺织、服装及家庭用品批发,其他批发业纺织、服装及...</td>\n",
       "      <td>其他电工机械专用设备其他电工机械专用设备电子和电工机械专用设备制造电子和电工机械专用设备制造</td>\n",
       "      <td>0</td>\n",
       "    </tr>\n",
       "    <tr>\n",
       "      <th>2673</th>\n",
       "      <td>专用机械制造服务专用机械制造服务电子和电工机械专用设备制造汽车制造业</td>\n",
       "      <td>车辆用电气音响信号装置,电气音响或视觉信号装置车辆用电气音响信号装置,汽车用音响设备,电气音...</td>\n",
       "      <td>1</td>\n",
       "    </tr>\n",
       "  </tbody>\n",
       "</table>\n",
       "</div>"
      ],
      "text/plain": [
       "                                                   host  \\\n",
       "3106                                         食用菌食用菌农业农业   \n",
       "8437  其他食品添加剂调味香料,其他储存和仓储服务,其他公路运输服务,其他铁路运输服务,铁路推或拖运...   \n",
       "8565                         针织Ｔ恤衫针织休闲衫纺织服装、服饰业纺织服装、服饰业   \n",
       "7776  纺织品、服装和鞋类批发纺织品、服装和鞋类批发纺织、服装及家庭用品批发,其他批发业纺织、服装及...   \n",
       "2673                 专用机械制造服务专用机械制造服务电子和电工机械专用设备制造汽车制造业   \n",
       "\n",
       "                                                  guest  label  \n",
       "3106                         管理咨询和管理服务管理咨询和管理服务国家机构国家机构      1  \n",
       "8437                     家用洗衣机家用洗衣机电气机械和器材制造业电气机械和器材制造业      0  \n",
       "8565                       塑料薄膜塑料管,塑料薄膜橡胶和塑料制品业橡胶和塑料制品业      0  \n",
       "7776     其他电工机械专用设备其他电工机械专用设备电子和电工机械专用设备制造电子和电工机械专用设备制造      0  \n",
       "2673  车辆用电气音响信号装置,电气音响或视觉信号装置车辆用电气音响信号装置,汽车用音响设备,电气音...      1  "
      ]
     },
     "execution_count": 5,
     "metadata": {},
     "output_type": "execute_result"
    }
   ],
   "source": []
  },
  {
   "cell_type": "code",
   "execution_count": 9,
   "metadata": {
    "collapsed": true
   },
   "outputs": [],
   "source": [
    "import json\n",
    "import codecs\n",
    "import tensorflow as tf\n",
    "from tqdm import tqdm\n",
    "\n",
    "\n",
    "def sent2id(sent, vocab, max_size=30):\n",
    "    sent = [vocab[c] for c in sent if c in vocab]\n",
    "    sent = sent[:max_size] + [0]*(max_size - len(sent))\n",
    "    return sent\n",
    "\n",
    "\n",
    "def create_int_feature(values):\n",
    "    return tf.train.Feature(int64_list=tf.train.Int64List(value=values))\n",
    "\n",
    "\n",
    "def convert_tfrecord(df,out_file,host_size,guest_size):\n",
    "    vocab = json.load(codecs.open('char.json', \"r\", \"utf-8\"))\n",
    "    #out_file = 'train.tfrecord'\n",
    "    writer = tf.io.TFRecordWriter(out_file)\n",
    "#     host_size = 200\n",
    "#     guest_size = 200\n",
    "    for i in df.index:\n",
    "        host_s = df.iloc[i,0]\n",
    "        guest_s = df.iloc[i,1]\n",
    "        label = [df.iloc[i,2]]\n",
    "        host_s = sent2id(host_s,vocab,host_size)\n",
    "        guest_s = sent2id(guest_s,vocab,guest_size)\n",
    "        feed_dict = {\"host_char\": create_int_feature(host_s),\n",
    "                    \"guest_char\": create_int_feature(guest_s),\n",
    "                    \"label\": create_int_feature(label)}\n",
    "        example = tf.train.Example(features=tf.train.Features(feature=feed_dict))\n",
    "        serialized = example.SerializeToString()\n",
    "        writer.write(serialized)\n",
    "    writer.close()"
   ]
  },
  {
   "cell_type": "code",
   "execution_count": 1,
   "metadata": {
    "collapsed": true
   },
   "outputs": [],
   "source": [
    "import tensorflow as tf"
   ]
  },
  {
   "cell_type": "code",
   "execution_count": 10,
   "metadata": {
    "collapsed": true
   },
   "outputs": [],
   "source": [
    "convert_tfrecord(df = df_train,out_file = 'train.tfrecord',host_size=50, guest_size=50)\n",
    "convert_tfrecord(df = df_test,out_file = 'eval.tfrecord',host_size=50, guest_size=50)"
   ]
  },
  {
   "cell_type": "code",
   "execution_count": 8,
   "metadata": {},
   "outputs": [
    {
     "data": {
      "text/plain": [
       "str"
      ]
     },
     "execution_count": 8,
     "metadata": {},
     "output_type": "execute_result"
    }
   ],
   "source": [
    "df_excel = pd.read_excel('pipei_data.xlsx','Sheet1')\n",
    "df_guest = df_excel['guest']\n",
    "type(df_guest[0])"
   ]
  },
  {
   "cell_type": "code",
   "execution_count": 12,
   "metadata": {},
   "outputs": [],
   "source": [
    "import json\n",
    "vocab = json.load(codecs.open('char.json', \"r\", \"utf-8\"))\n",
    "sent = \"食品、饮料和烟草批发食品、饮料和烟草批发其他批发业其他批发业\"\n",
    "sent = [vocab.get(c, 1) for c in sent]"
   ]
  },
  {
   "cell_type": "code",
   "execution_count": 13,
   "metadata": {},
   "outputs": [
    {
     "data": {
      "text/plain": [
       "[407,\n",
       " 112,\n",
       " 1,\n",
       " 1075,\n",
       " 550,\n",
       " 19,\n",
       " 1155,\n",
       " 972,\n",
       " 792,\n",
       " 27,\n",
       " 407,\n",
       " 112,\n",
       " 1,\n",
       " 1075,\n",
       " 550,\n",
       " 19,\n",
       " 1155,\n",
       " 972,\n",
       " 792,\n",
       " 27,\n",
       " 95,\n",
       " 46,\n",
       " 792,\n",
       " 27,\n",
       " 39,\n",
       " 95,\n",
       " 46,\n",
       " 792,\n",
       " 27,\n",
       " 39]"
      ]
     },
     "execution_count": 13,
     "metadata": {},
     "output_type": "execute_result"
    }
   ],
   "source": [
    "sent"
   ]
  },
  {
   "cell_type": "code",
   "execution_count": null,
   "metadata": {
    "collapsed": true
   },
   "outputs": [],
   "source": []
  }
 ],
 "metadata": {
  "kernelspec": {
   "display_name": "Python 3",
   "language": "python",
   "name": "python3"
  },
  "language_info": {
   "codemirror_mode": {
    "name": "ipython",
    "version": 3
   },
   "file_extension": ".py",
   "mimetype": "text/x-python",
   "name": "python",
   "nbconvert_exporter": "python",
   "pygments_lexer": "ipython3",
   "version": "3.6.2"
  }
 },
 "nbformat": 4,
 "nbformat_minor": 4
}
